{
 "cells": [
  {
   "cell_type": "code",
   "execution_count": null,
   "id": "367ddf8a",
   "metadata": {},
   "outputs": [],
   "source": [
    "import requests\n",
    "result = requests.get(\"https://in.bookmyshow.com/explore/movies-coimbatore\")"
   ]
  },
  {
   "cell_type": "code",
   "execution_count": 14,
   "id": "d6f00e8a",
   "metadata": {},
   "outputs": [],
   "source": [
    "import bs4\n",
    "soup = bs4.BeautifulSoup(result.text,'lxml')"
   ]
  },
  {
   "cell_type": "code",
   "execution_count": null,
   "id": "a546b41c",
   "metadata": {},
   "outputs": [],
   "source": [
    "cases= soup.find_all(\"div\")\n",
    "print(cases)\n",
    "cases=cases.find_all(\"div\",class_=\"sc-133848s-3 sc-133848s-5 gqBECX\")\n",
    "print(cases)\n"
   ]
  },
  {
   "cell_type": "code",
   "execution_count": 12,
   "id": "14280698",
   "metadata": {},
   "outputs": [
    {
     "name": "stdout",
     "output_type": "stream",
     "text": [
      "['(1994)', '(2008)', '(2010)', '(1999)', '(1994)', '(1994)', '(1999)', '(2001)', '(1972)', '(2003)', '(2012)', '(2002)', '(1995)', '(2012)', '(2000)', '(2005)', '(2009)', '(1991)', '(1998)', '(2012)', '(1977)', '(1993)', '(2006)', '(2006)', '(2010)', '(2009)', '(1999)', '(1980)', '(1974)', '(2000)', '(1985)', '(1997)', '(1990)', '(1994)', '(1999)', '(2003)', '(1998)', '(2005)', '(2008)', '(2003)', '(1991)', '(1998)', '(1995)', '(1994)', '(2008)', '(1983)', '(2009)', '(2003)', '(1995)', '(1980)']\n"
     ]
    }
   ],
   "source": [
    "year = []\n",
    "Run =[]\n",
    "name = []\n",
    "for i in cases:\n",
    "    year_mov= i.find(\"span\",class_=\"lister-item-year\")\n",
    "    year.append(year_mov.string)\n",
    "    runtime_mov= i.find(\"span\",class_=\"runtime\")\n",
    "    Run.append(runtime_mov.string)\n",
    "    name_mov = i.find('img')['alt']\n",
    "    name.append(name_mov)\n",
    "print(year)"
   ]
  },
  {
   "cell_type": "code",
   "execution_count": 6,
   "id": "1824e8ae",
   "metadata": {},
   "outputs": [
    {
     "name": "stdout",
     "output_type": "stream",
     "text": [
      "                       Name    Year  Runtime\n",
      "0  The Shawshank Redemption  (1994)  142 min\n",
      "1           The Dark Knight  (2008)  152 min\n",
      "2                 Inception  (2010)  148 min\n",
      "3                Fight Club  (1999)  139 min\n",
      "4              Forrest Gump  (1994)  142 min\n"
     ]
    }
   ],
   "source": [
    "import pandas as pd\n",
    "dt=pd.DataFrame({'Name':name,'Year':year,'Runtime':Run})\n",
    "print(dt.head())"
   ]
  },
  {
   "cell_type": "code",
   "execution_count": null,
   "id": "1838b86c",
   "metadata": {},
   "outputs": [],
   "source": []
  },
  {
   "cell_type": "code",
   "execution_count": null,
   "id": "921770c2",
   "metadata": {},
   "outputs": [],
   "source": []
  }
 ],
 "metadata": {
  "kernelspec": {
   "display_name": "Python 3 (ipykernel)",
   "language": "python",
   "name": "python3"
  },
  "language_info": {
   "codemirror_mode": {
    "name": "ipython",
    "version": 3
   },
   "file_extension": ".py",
   "mimetype": "text/x-python",
   "name": "python",
   "nbconvert_exporter": "python",
   "pygments_lexer": "ipython3",
   "version": "3.11.4"
  }
 },
 "nbformat": 4,
 "nbformat_minor": 5
}
