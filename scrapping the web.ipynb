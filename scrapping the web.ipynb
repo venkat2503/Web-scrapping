{
 "cells": [
  {
   "cell_type": "code",
   "execution_count": 2,
   "id": "e8b9a868",
   "metadata": {},
   "outputs": [],
   "source": [
    "from bs4 import BeautifulSoup\n",
    "from requests import get\n",
    "import pandas as pd"
   ]
  },
  {
   "cell_type": "code",
   "execution_count": 3,
   "id": "e1b31000",
   "metadata": {},
   "outputs": [],
   "source": [
    "res=get(\"https://www.imdb.com/list/ls562915122/\")"
   ]
  },
  {
   "cell_type": "code",
   "execution_count": 4,
   "id": "b63c208a",
   "metadata": {},
   "outputs": [],
   "source": [
    "pg=BeautifulSoup(res.content,'html.parser')\n"
   ]
  },
  {
   "cell_type": "code",
   "execution_count": 7,
   "id": "7c750f96",
   "metadata": {},
   "outputs": [
    {
     "name": "stdout",
     "output_type": "stream",
     "text": [
      "[<span class=\"lister-item-year text-muted unbold\">(2023)</span>, <span class=\"lister-item-year text-muted unbold\">(2023)</span>, <span class=\"lister-item-year text-muted unbold\">(2023)</span>, <span class=\"lister-item-year text-muted unbold\">(2023)</span>, <span class=\"lister-item-year text-muted unbold\">(2023)</span>, <span class=\"lister-item-year text-muted unbold\">(2023)</span>, <span class=\"lister-item-year text-muted unbold\">(2023)</span>, <span class=\"lister-item-year text-muted unbold\">(2023)</span>, <span class=\"lister-item-year text-muted unbold\">(2023)</span>, <span class=\"lister-item-year text-muted unbold\">(2023)</span>, <span class=\"lister-item-year text-muted unbold\">(2023)</span>, <span class=\"lister-item-year text-muted unbold\">(2023)</span>, <span class=\"lister-item-year text-muted unbold\">(2023)</span>, <span class=\"lister-item-year text-muted unbold\">(2023)</span>, <span class=\"lister-item-year text-muted unbold\">(2023)</span>, <span class=\"lister-item-year text-muted unbold\">(2023)</span>, <span class=\"lister-item-year text-muted unbold\">(2023)</span>, <span class=\"lister-item-year text-muted unbold\">(2023)</span>, <span class=\"lister-item-year text-muted unbold\">(2023)</span>, <span class=\"lister-item-year text-muted unbold\">(2023)</span>, <span class=\"lister-item-year text-muted unbold\">(2023)</span>, <span class=\"lister-item-year text-muted unbold\">(2023)</span>, <span class=\"lister-item-year text-muted unbold\">(2023)</span>, <span class=\"lister-item-year text-muted unbold\">(2023)</span>, <span class=\"lister-item-year text-muted unbold\">(2023)</span>, <span class=\"lister-item-year text-muted unbold\">(2023)</span>, <span class=\"lister-item-year text-muted unbold\">(2023)</span>, <span class=\"lister-item-year text-muted unbold\">(2023)</span>, <span class=\"lister-item-year text-muted unbold\">(2023)</span>, <span class=\"lister-item-year text-muted unbold\">(2023)</span>, <span class=\"lister-item-year text-muted unbold\">(2023)</span>, <span class=\"lister-item-year text-muted unbold\">(III) (2023)</span>, <span class=\"lister-item-year text-muted unbold\">(III)</span>, <span class=\"lister-item-year text-muted unbold\">(2023)</span>, <span class=\"lister-item-year text-muted unbold\">(2023)</span>, <span class=\"lister-item-year text-muted unbold\">(2023)</span>, <span class=\"lister-item-year text-muted unbold\">(2023)</span>]\n"
     ]
    }
   ],
   "source": [
    "movie_cont=pg.findAll('span',class_='lister-item-year text-muted unbold')\n",
    "year=[]\n",
    "#print(movie_cont[0].find(\"(\"))"
   ]
  },
  {
   "cell_type": "code",
   "execution_count": 9,
   "id": "0b724fd2",
   "metadata": {},
   "outputs": [
    {
     "name": "stdout",
     "output_type": "stream",
     "text": [
      "['(2023)', '(2023)', '(2023)', '(2023)', '(2023)', '(2023)', '(2023)', '(2023)', '(2023)', '(2023)', '(2023)', '(2023)', '(2023)', '(2023)', '(2023)', '(2023)', '(2023)', '(2023)', '(2023)', '(2023)', '(2023)', '(2023)', '(2023)', '(2023)', '(2023)', '(2023)', '(2023)', '(2023)', '(2023)', '(2023)', '(2023)', '(III) (2023)', '(III)', '(2023)', '(2023)', '(2023)', '(2023)', '(2023)', '(2023)', '(2023)', '(2023)', '(2023)', '(2023)', '(2023)', '(2023)', '(2023)', '(2023)', '(2023)', '(2023)', '(2023)', '(2023)', '(2023)', '(2023)', '(2023)', '(2023)', '(2023)', '(2023)', '(2023)', '(2023)', '(2023)', '(2023)', '(2023)', '(2023)', '(2023)', '(2023)', '(2023)', '(2023)', '(2023)', '(III) (2023)', '(III)', '(2023)', '(2023)', '(2023)', '(2023)']\n"
     ]
    },
    {
     "data": {
      "text/html": [
       "<div>\n",
       "<style scoped>\n",
       "    .dataframe tbody tr th:only-of-type {\n",
       "        vertical-align: middle;\n",
       "    }\n",
       "\n",
       "    .dataframe tbody tr th {\n",
       "        vertical-align: top;\n",
       "    }\n",
       "\n",
       "    .dataframe thead th {\n",
       "        text-align: right;\n",
       "    }\n",
       "</style>\n",
       "<table border=\"1\" class=\"dataframe\">\n",
       "  <thead>\n",
       "    <tr style=\"text-align: right;\">\n",
       "      <th></th>\n",
       "      <th>Year_rlsed</th>\n",
       "    </tr>\n",
       "  </thead>\n",
       "  <tbody>\n",
       "    <tr>\n",
       "      <th>0</th>\n",
       "      <td>(2023)</td>\n",
       "    </tr>\n",
       "    <tr>\n",
       "      <th>1</th>\n",
       "      <td>(2023)</td>\n",
       "    </tr>\n",
       "    <tr>\n",
       "      <th>2</th>\n",
       "      <td>(2023)</td>\n",
       "    </tr>\n",
       "    <tr>\n",
       "      <th>3</th>\n",
       "      <td>(2023)</td>\n",
       "    </tr>\n",
       "    <tr>\n",
       "      <th>4</th>\n",
       "      <td>(2023)</td>\n",
       "    </tr>\n",
       "    <tr>\n",
       "      <th>...</th>\n",
       "      <td>...</td>\n",
       "    </tr>\n",
       "    <tr>\n",
       "      <th>69</th>\n",
       "      <td>(III)</td>\n",
       "    </tr>\n",
       "    <tr>\n",
       "      <th>70</th>\n",
       "      <td>(2023)</td>\n",
       "    </tr>\n",
       "    <tr>\n",
       "      <th>71</th>\n",
       "      <td>(2023)</td>\n",
       "    </tr>\n",
       "    <tr>\n",
       "      <th>72</th>\n",
       "      <td>(2023)</td>\n",
       "    </tr>\n",
       "    <tr>\n",
       "      <th>73</th>\n",
       "      <td>(2023)</td>\n",
       "    </tr>\n",
       "  </tbody>\n",
       "</table>\n",
       "<p>74 rows × 1 columns</p>\n",
       "</div>"
      ],
      "text/plain": [
       "   Year_rlsed\n",
       "0      (2023)\n",
       "1      (2023)\n",
       "2      (2023)\n",
       "3      (2023)\n",
       "4      (2023)\n",
       "..        ...\n",
       "69      (III)\n",
       "70     (2023)\n",
       "71     (2023)\n",
       "72     (2023)\n",
       "73     (2023)\n",
       "\n",
       "[74 rows x 1 columns]"
      ]
     },
     "execution_count": 9,
     "metadata": {},
     "output_type": "execute_result"
    }
   ],
   "source": [
    "for i in movie_cont:\n",
    "    year.append(i.string)\n",
    "print(year)\n",
    "df=pd.DataFrame({\"Year_rlsed\":year})\n",
    "df"
   ]
  },
  {
   "cell_type": "code",
   "execution_count": null,
   "id": "f9f353d6",
   "metadata": {},
   "outputs": [],
   "source": []
  }
 ],
 "metadata": {
  "kernelspec": {
   "display_name": "Python 3 (ipykernel)",
   "language": "python",
   "name": "python3"
  },
  "language_info": {
   "codemirror_mode": {
    "name": "ipython",
    "version": 3
   },
   "file_extension": ".py",
   "mimetype": "text/x-python",
   "name": "python",
   "nbconvert_exporter": "python",
   "pygments_lexer": "ipython3",
   "version": "3.9.12"
  }
 },
 "nbformat": 4,
 "nbformat_minor": 5
}
